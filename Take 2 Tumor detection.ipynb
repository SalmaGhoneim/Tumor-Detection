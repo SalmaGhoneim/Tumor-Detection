{
 "cells": [
  {
   "cell_type": "code",
   "execution_count": 1,
   "metadata": {},
   "outputs": [],
   "source": [
    "import cv2 \n",
    "import sys\n",
    "import cv2"
   ]
  },
  {
   "cell_type": "code",
   "execution_count": 2,
   "metadata": {},
   "outputs": [],
   "source": [
    "image = cv2.imread('/home/met/Documents/Salma/new_train_images/005.jpg')\n",
    "\n",
    "# 477 133 30"
   ]
  },
  {
   "cell_type": "code",
   "execution_count": 3,
   "metadata": {},
   "outputs": [],
   "source": [
    "# function to draw image\n",
    "def viewImage(image):\n",
    "    cv2.namedWindow('Display', cv2.WINDOW_NORMAL)\n",
    "    cv2.imshow('Display', image)\n",
    "    cv2.waitKey(0)\n",
    "    cv2.destroyAllWindows()"
   ]
  },
  {
   "cell_type": "code",
   "execution_count": 4,
   "metadata": {},
   "outputs": [],
   "source": [
    "# returns None if rectangles don't intersect\n",
    "def area_of_intersection(axmax,aymax, axmin,aymin, bxmax,bymax, bxmin,bymin): \n",
    "    dx = min(axmax, bxmax) - max(axmin, bxmin)\n",
    "    dy = min(aymax, bymax) - max(aymin, bymin)\n",
    "    if (dx>=0) and (dy>=0):\n",
    "        return dx*dy\n"
   ]
  },
  {
   "cell_type": "code",
   "execution_count": 5,
   "metadata": {},
   "outputs": [],
   "source": [
    "# b is blue, original ROI - big\n",
    "# a is current box - small\n",
    "# is current in blue, is a in b ?\n",
    "\n",
    "def included(bxmax , bymax, bxmin, bymin,\n",
    "             axmax, aymax, axmin, aymin, ):\n",
    "    if(bxmin <= axmin & bxmax >= axmax &\n",
    "       bymin <= aymin & bymax >= aymax ):\n",
    "        return 1\n",
    "    else:\n",
    "        return 0"
   ]
  },
  {
   "cell_type": "code",
   "execution_count": 6,
   "metadata": {},
   "outputs": [
    {
     "data": {
      "text/plain": [
       "1"
      ]
     },
     "execution_count": 6,
     "metadata": {},
     "output_type": "execute_result"
    }
   ],
   "source": [
    "included(100, 100, -100, -100,10 , 10 , -10 , -10)\n",
    "# y=[]\n",
    "# y.append(0)\n",
    "# y"
   ]
  },
  {
   "cell_type": "code",
   "execution_count": 11,
   "metadata": {},
   "outputs": [
    {
     "name": "stdout",
     "output_type": "stream",
     "text": [
      "Total Number of Region Proposals: 974\n",
      "0.16945961212577668\n"
     ]
    }
   ],
   "source": [
    "im = image\n",
    "cv2.setUseOptimized(True);\n",
    "cv2.setNumThreads(4);\n",
    "ss = cv2.ximgproc.segmentation.createSelectiveSearchSegmentation()\n",
    "ss.setBaseImage(im)\n",
    "# # Switch to fast but low recall Selective Search method\n",
    "# if (sys.argv[2] == 'f'):\n",
    "#     ss.switchToSelectiveSearchFast()\n",
    "#     print('hjsd')\n",
    "\n",
    "# # Switch to high recall but slow Selective Search method\n",
    "# elif(sys.argv[2] == 'q'):\n",
    "#     print('hdjs')\n",
    "    \n",
    "#     ss.switchToSelectiveSearchQuality()\n",
    "# # if argument is neither f nor q print help message\n",
    "# else:\n",
    "#     print('shjs')\n",
    "    \n",
    "#     print(__doc__)\n",
    "#     sys.exit(1)\n",
    "# ss.switchToSelectiveSearchFast()\n",
    "\n",
    "\n",
    "ss.switchToSelectiveSearchQuality()\n",
    "\n",
    "# run selective search segmentation on input image\n",
    "rects = ss.process()\n",
    "print('Total Number of Region Proposals: {}'.format(len(rects)))\n",
    "\n",
    "# number of region proposals to show\n",
    "numShowRects = 100\n",
    "# increment to increase/decrease total number\n",
    "# of reason proposals to be shown\n",
    "increment = 50\n",
    "\n",
    "\n",
    "    # create a copy of original image\n",
    "imOut = im.copy()\n",
    "outs = []\n",
    "# itereate over all the region proposals\n",
    "for i, rect in enumerate(rects):\n",
    "    # draw rectangle for region proposal till numShowRects\n",
    "    x, y, w, h = rect\n",
    "    if(included( 477+15, 1024-(133-15), 477-15, 1024-(133+15), x+w, y+h, x, y)):\n",
    "        outs.append(1)\n",
    "        cv2.rectangle(imOut, (x, y), (x+w, y+h), (0, 255, 0), 3, cv2.LINE_AA)\n",
    "\n",
    "    else:\n",
    "#         print(x, y, x+w, y+h)\n",
    "        int_area= area_of_intersection(477+15,  1024-(133-15), 477-15,1024-(133+15), x+w, y+h, x, y )\n",
    "        if(int_area == None):\n",
    "            outs.append(0)\n",
    "        else:\n",
    "            cv2.rectangle(imOut, (x, y), (x+w, y+h), (0, 255, 0), 3, cv2.LINE_AA)\n",
    "\n",
    "            outs.append(int_area/(w*h))\n",
    "    \n",
    "\n",
    "# show output\n",
    "cv2.imshow(\"Output\", imOut)\n",
    "\n",
    "print(max(outs))"
   ]
  },
  {
   "cell_type": "code",
   "execution_count": 10,
   "metadata": {},
   "outputs": [],
   "source": [
    "cv2.rectangle(imOut,( 477-15, 1024-(133-15)),(477 + 15 , 1024- (133+ 15)), (255,0,0),1)\n",
    "viewImage(imOut)"
   ]
  },
  {
   "cell_type": "code",
   "execution_count": null,
   "metadata": {},
   "outputs": [],
   "source": []
  },
  {
   "cell_type": "code",
   "execution_count": 9,
   "metadata": {},
   "outputs": [
    {
     "ename": "NameError",
     "evalue": "name 'area' is not defined",
     "output_type": "error",
     "traceback": [
      "\u001b[0;31m---------------------------------------------------------------------------\u001b[0m",
      "\u001b[0;31mNameError\u001b[0m                                 Traceback (most recent call last)",
      "\u001b[0;32m<ipython-input-9-dbecca1469d7>\u001b[0m in \u001b[0;36m<module>\u001b[0;34m()\u001b[0m\n\u001b[0;32m----> 1\u001b[0;31m \u001b[0marea\u001b[0m\u001b[0;34m(\u001b[0m\u001b[0;36m18\u001b[0m\u001b[0;34m,\u001b[0m \u001b[0;36m6\u001b[0m\u001b[0;34m,\u001b[0m \u001b[0;36m16\u001b[0m\u001b[0;34m,\u001b[0m \u001b[0;36m1\u001b[0m\u001b[0;34m,\u001b[0m \u001b[0;36m20\u001b[0m\u001b[0;34m,\u001b[0m \u001b[0;36m10\u001b[0m\u001b[0;34m,\u001b[0m \u001b[0;36m10\u001b[0m\u001b[0;34m,\u001b[0m \u001b[0;36m0\u001b[0m      \u001b[0;34m)\u001b[0m\u001b[0;34m\u001b[0m\u001b[0m\n\u001b[0m",
      "\u001b[0;31mNameError\u001b[0m: name 'area' is not defined"
     ]
    }
   ],
   "source": [
    "area(18, 6, 16, 1, 20, 10, 10, 0      )"
   ]
  },
  {
   "cell_type": "code",
   "execution_count": null,
   "metadata": {},
   "outputs": [],
   "source": []
  }
 ],
 "metadata": {
  "kernelspec": {
   "display_name": "Python 3",
   "language": "python",
   "name": "python3"
  },
  "language_info": {
   "codemirror_mode": {
    "name": "ipython",
    "version": 3
   },
   "file_extension": ".py",
   "mimetype": "text/x-python",
   "name": "python",
   "nbconvert_exporter": "python",
   "pygments_lexer": "ipython3",
   "version": "3.6.4"
  },
  "toc": {
   "base_numbering": 1,
   "nav_menu": {},
   "number_sections": true,
   "sideBar": true,
   "skip_h1_title": false,
   "title_cell": "Table of Contents",
   "title_sidebar": "Contents",
   "toc_cell": false,
   "toc_position": {},
   "toc_section_display": true,
   "toc_window_display": false
  }
 },
 "nbformat": 4,
 "nbformat_minor": 2
}
