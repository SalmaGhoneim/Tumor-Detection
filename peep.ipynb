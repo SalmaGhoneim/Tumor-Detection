{
 "cells": [
  {
   "cell_type": "code",
   "execution_count": 23,
   "metadata": {},
   "outputs": [],
   "source": [
    "import cv2 \n",
    "import sys\n",
    "import cv2"
   ]
  },
  {
   "cell_type": "code",
   "execution_count": 16,
   "metadata": {},
   "outputs": [],
   "source": [
    "image = cv2.imread('005.jpg')"
   ]
  },
  {
   "cell_type": "code",
   "execution_count": 17,
   "metadata": {},
   "outputs": [],
   "source": [
    "# function to draw image\n",
    "\n",
    "def viewImage(image):\n",
    "    cv2.namedWindow('Display', cv2.WINDOW_NORMAL)\n",
    "    cv2.imshow('Display', image)\n",
    "    cv2.waitKey(0)\n",
    "    cv2.destroyAllWindows()"
   ]
  },
  {
   "cell_type": "code",
   "execution_count": 18,
   "metadata": {},
   "outputs": [],
   "source": [
    "viewImage(image)\n"
   ]
  },
  {
   "cell_type": "code",
   "execution_count": 21,
   "metadata": {},
   "outputs": [],
   "source": [
    "cv2.rectangle(image,( 477-30, 1024-(133-30)),(477 + 30 , 1024- (133+ 30)), (0,255,0),3)\n",
    "viewImage(image)\n",
    "im = image"
   ]
  },
  {
   "cell_type": "code",
   "execution_count": 26,
   "metadata": {},
   "outputs": [
    {
     "ename": "AttributeError",
     "evalue": "module 'cv2.cv2' has no attribute 'ximgproc'",
     "output_type": "error",
     "traceback": [
      "\u001b[0;31m---------------------------------------------------------------------------\u001b[0m",
      "\u001b[0;31mAttributeError\u001b[0m                            Traceback (most recent call last)",
      "\u001b[0;32m<ipython-input-26-5bd0b7ea3ba2>\u001b[0m in \u001b[0;36m<module>\u001b[0;34m()\u001b[0m\n\u001b[1;32m      2\u001b[0m \u001b[0mcv2\u001b[0m\u001b[0;34m.\u001b[0m\u001b[0msetNumThreads\u001b[0m\u001b[0;34m(\u001b[0m\u001b[0;36m4\u001b[0m\u001b[0;34m)\u001b[0m\u001b[0;34m;\u001b[0m\u001b[0;34m\u001b[0m\u001b[0m\n\u001b[1;32m      3\u001b[0m \u001b[0;34m\u001b[0m\u001b[0m\n\u001b[0;32m----> 4\u001b[0;31m \u001b[0mss\u001b[0m \u001b[0;34m=\u001b[0m \u001b[0mcv2\u001b[0m\u001b[0;34m.\u001b[0m\u001b[0mximgproc\u001b[0m\u001b[0;34m.\u001b[0m\u001b[0msegmentation\u001b[0m\u001b[0;34m.\u001b[0m\u001b[0mcreateSelectiveSearchSegmentation\u001b[0m\u001b[0;34m(\u001b[0m\u001b[0;34m)\u001b[0m\u001b[0;34m\u001b[0m\u001b[0m\n\u001b[0m\u001b[1;32m      5\u001b[0m \u001b[0mss\u001b[0m\u001b[0;34m.\u001b[0m\u001b[0msetBaseImage\u001b[0m\u001b[0;34m(\u001b[0m\u001b[0mim\u001b[0m\u001b[0;34m)\u001b[0m\u001b[0;34m\u001b[0m\u001b[0m\n\u001b[1;32m      6\u001b[0m \u001b[0;34m\u001b[0m\u001b[0m\n",
      "\u001b[0;31mAttributeError\u001b[0m: module 'cv2.cv2' has no attribute 'ximgproc'"
     ]
    }
   ],
   "source": [
    "cv2.setUseOptimized(True);\n",
    "cv2.setNumThreads(4);\n",
    "\n",
    "ss = cv2.ximgproc.segmentation.createSelectiveSearchSegmentation()\n",
    "ss.setBaseImage(im)\n",
    "\n",
    "# Switch to fast but low recall Selective Search method\n",
    "if (sys.argv[2] == 'f'):\n",
    "    ss.switchToSelectiveSearchFast()\n",
    "\n",
    "# Switch to high recall but slow Selective Search method\n",
    "elif (sys.argv[2] == 'q'):\n",
    "    ss.switchToSelectiveSearchQuality()\n",
    "# if argument is neither f nor q print help message\n",
    "else:\n",
    "    print(__doc__)\n",
    "    sys.exit(1)\n",
    "\n",
    "# run selective search segmentation on input image\n",
    "rects = ss.process()\n",
    "print('Total Number of Region Proposals: {}'.format(len(rects)))\n",
    "\n",
    "# number of region proposals to show\n",
    "numShowRects = 100\n",
    "# increment to increase/decrease total number\n",
    "# of reason proposals to be shown\n",
    "increment = 50\n",
    "\n",
    "while True:\n",
    "    # create a copy of original image\n",
    "    imOut = im.copy()\n",
    "\n",
    "    # itereate over all the region proposals\n",
    "    for i, rect in enumerate(rects):\n",
    "        # draw rectangle for region proposal till numShowRects\n",
    "        if (i < numShowRects):\n",
    "            x, y, w, h = rect\n",
    "            cv2.rectangle(imOut, (x, y), (x+w, y+h), (0, 255, 0), 1, cv2.LINE_AA)\n",
    "        else:\n",
    "            break\n",
    "\n",
    "    # show output\n",
    "    cv2.imshow(\"Output\", imOut)"
   ]
  },
  {
   "cell_type": "code",
   "execution_count": 24,
   "metadata": {},
   "outputs": [
    {
     "ename": "AttributeError",
     "evalue": "'NoneType' object has no attribute 'shape'",
     "output_type": "error",
     "traceback": [
      "\u001b[0;31m---------------------------------------------------------------------------\u001b[0m",
      "\u001b[0;31mAttributeError\u001b[0m                            Traceback (most recent call last)",
      "\u001b[0;32m<ipython-input-24-5ce0ee43622d>\u001b[0m in \u001b[0;36m<module>\u001b[0;34m()\u001b[0m\n\u001b[1;32m     23\u001b[0m     \u001b[0;31m# resize image\u001b[0m\u001b[0;34m\u001b[0m\u001b[0;34m\u001b[0m\u001b[0m\n\u001b[1;32m     24\u001b[0m     \u001b[0mnewHeight\u001b[0m \u001b[0;34m=\u001b[0m \u001b[0;36m200\u001b[0m\u001b[0;34m\u001b[0m\u001b[0m\n\u001b[0;32m---> 25\u001b[0;31m     \u001b[0mnewWidth\u001b[0m \u001b[0;34m=\u001b[0m \u001b[0mint\u001b[0m\u001b[0;34m(\u001b[0m\u001b[0mim\u001b[0m\u001b[0;34m.\u001b[0m\u001b[0mshape\u001b[0m\u001b[0;34m[\u001b[0m\u001b[0;36m1\u001b[0m\u001b[0;34m]\u001b[0m\u001b[0;34m*\u001b[0m\u001b[0;36m200\u001b[0m\u001b[0;34m/\u001b[0m\u001b[0mim\u001b[0m\u001b[0;34m.\u001b[0m\u001b[0mshape\u001b[0m\u001b[0;34m[\u001b[0m\u001b[0;36m0\u001b[0m\u001b[0;34m]\u001b[0m\u001b[0;34m)\u001b[0m\u001b[0;34m\u001b[0m\u001b[0m\n\u001b[0m\u001b[1;32m     26\u001b[0m     \u001b[0mim\u001b[0m \u001b[0;34m=\u001b[0m \u001b[0mcv2\u001b[0m\u001b[0;34m.\u001b[0m\u001b[0mresize\u001b[0m\u001b[0;34m(\u001b[0m\u001b[0mim\u001b[0m\u001b[0;34m,\u001b[0m \u001b[0;34m(\u001b[0m\u001b[0mnewWidth\u001b[0m\u001b[0;34m,\u001b[0m \u001b[0mnewHeight\u001b[0m\u001b[0;34m)\u001b[0m\u001b[0;34m)\u001b[0m\u001b[0;34m\u001b[0m\u001b[0m\n\u001b[1;32m     27\u001b[0m \u001b[0;34m\u001b[0m\u001b[0m\n",
      "\u001b[0;31mAttributeError\u001b[0m: 'NoneType' object has no attribute 'shape'"
     ]
    }
   ],
   "source": [
    "#!/usr/bin/env python\n",
    "'''\n",
    "Usage:\n",
    "    ./ssearch.py input_image (f|q)\n",
    "    f=fast, q=quality\n",
    "Use \"l\" to display less rects, 'm' to display more rects, \"q\" to quit.\n",
    "'''\n",
    "\n",
    " \n",
    "if __name__ == '__main__':\n",
    "    # If image path and f/q is not passed as command\n",
    "    # line arguments, quit and display help message\n",
    "    if len(sys.argv) < 3:\n",
    "        print(__doc__)\n",
    "        sys.exit(1)\n",
    " \n",
    "    # speed-up using multithreads\n",
    "    cv2.setUseOptimized(True);\n",
    "    cv2.setNumThreads(4);\n",
    " \n",
    "    # read image\n",
    "    im = cv2.imread(sys.argv[1])\n",
    "    # resize image\n",
    "    newHeight = 200\n",
    "    newWidth = int(im.shape[1]*200/im.shape[0])\n",
    "    im = cv2.resize(im, (newWidth, newHeight))    \n",
    " \n",
    "    # create Selective Search Segmentation Object using default parameters\n",
    "    ss = cv2.ximgproc.segmentation.createSelectiveSearchSegmentation()\n",
    " \n",
    "    # set input image on which we will run segmentation\n",
    "    ss.setBaseImage(im)\n",
    " \n",
    "    # Switch to fast but low recall Selective Search method\n",
    "    if (sys.argv[2] == 'f'):\n",
    "        ss.switchToSelectiveSearchFast()\n",
    " \n",
    "    # Switch to high recall but slow Selective Search method\n",
    "    elif (sys.argv[2] == 'q'):\n",
    "        ss.switchToSelectiveSearchQuality()\n",
    "    # if argument is neither f nor q print help message\n",
    "    else:\n",
    "        print(__doc__)\n",
    "        sys.exit(1)\n",
    " \n",
    "    # run selective search segmentation on input image\n",
    "    rects = ss.process()\n",
    "    print('Total Number of Region Proposals: {}'.format(len(rects)))\n",
    "     \n",
    "    # number of region proposals to show\n",
    "    numShowRects = 100\n",
    "    # increment to increase/decrease total number\n",
    "    # of reason proposals to be shown\n",
    "    increment = 50\n",
    " \n",
    "    while True:\n",
    "        # create a copy of original image\n",
    "        imOut = im.copy()\n",
    " \n",
    "        # itereate over all the region proposals\n",
    "        for i, rect in enumerate(rects):\n",
    "            # draw rectangle for region proposal till numShowRects\n",
    "            if (i < numShowRects):\n",
    "                x, y, w, h = rect\n",
    "                cv2.rectangle(imOut, (x, y), (x+w, y+h), (0, 255, 0), 1, cv2.LINE_AA)\n",
    "            else:\n",
    "                break\n",
    " \n",
    "        # show output\n",
    "        cv2.imshow(\"Output\", imOut)\n",
    " \n",
    "        # record key press\n",
    "        k = cv2.waitKey(0) & 0xFF\n",
    " \n",
    "        # m is pressed\n",
    "        if k == 109:\n",
    "            # increase total number of rectangles to show by increment\n",
    "            numShowRects += increment\n",
    "        # l is pressed\n",
    "        elif k == 108 and numShowRects > increment:\n",
    "            # decrease total number of rectangles to show by increment\n",
    "            numShowRects -= increment\n",
    "        # q is pressed\n",
    "        elif k == 113:\n",
    "            break\n",
    "    # close image show window\n",
    "    cv2.destroyAllWindows()"
   ]
  },
  {
   "cell_type": "code",
   "execution_count": null,
   "metadata": {},
   "outputs": [],
   "source": []
  }
 ],
 "metadata": {
  "kernelspec": {
   "display_name": "Python 3",
   "language": "python",
   "name": "python3"
  },
  "toc": {
   "base_numbering": 1,
   "nav_menu": {},
   "number_sections": true,
   "sideBar": true,
   "skip_h1_title": false,
   "title_cell": "Table of Contents",
   "title_sidebar": "Contents",
   "toc_cell": false,
   "toc_position": {},
   "toc_section_display": true,
   "toc_window_display": false
  }
 },
 "nbformat": 4,
 "nbformat_minor": 2
}
