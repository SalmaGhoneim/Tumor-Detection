{
 "cells": [
  {
   "cell_type": "code",
   "execution_count": 1,
   "metadata": {},
   "outputs": [],
   "source": [
    "import cv2\n",
    "import numpy as np\n",
    "\n"
   ]
  },
  {
   "cell_type": "code",
   "execution_count": 2,
   "metadata": {},
   "outputs": [],
   "source": [
    "def viewImage(image):\n",
    "    cv2.namedWindow('Display', cv2.WINDOW_NORMAL)\n",
    "    cv2.imshow('Display', image)\n",
    "    cv2.waitKey(0)\n",
    "    cv2.destroyAllWindows()"
   ]
  },
  {
   "cell_type": "code",
   "execution_count": 3,
   "metadata": {},
   "outputs": [],
   "source": [
    "def grayscale_17_levels (image):\n",
    "    high = 255\n",
    "    while(1):  \n",
    "        low = high - 25\n",
    "        col_to_be_changed_low = np.array([low])\n",
    "        col_to_be_changed_high = np.array([high])\n",
    "        curr_mask = cv2.inRange(gray, col_to_be_changed_low, col_to_be_changed_high)\n",
    "        gray[curr_mask > 0] = (high)\n",
    "        high -= 25\n",
    "        if(low < 10 ):\n",
    "            break"
   ]
  },
  {
   "cell_type": "code",
   "execution_count": 4,
   "metadata": {},
   "outputs": [
    {
     "data": {
      "text/plain": [
       "numpy.ndarray"
      ]
     },
     "execution_count": 4,
     "metadata": {},
     "output_type": "execute_result"
    }
   ],
   "source": [
    "image = cv2.imread('./Documents/ombre_circle_grayscale.png')\n",
    "\n",
    "viewImage(image)\n",
    "gray = cv2.cvtColor(image, cv2.COLOR_BGR2GRAY)\n",
    "grayscale_17_levels(gray)\n",
    "viewImage(gray)\n",
    "cv2.imwrite(\"segmented-into-10-gray-levels.png\", gray)\n",
    "type(image)"
   ]
  },
  {
   "cell_type": "code",
   "execution_count": 7,
   "metadata": {},
   "outputs": [],
   "source": [
    "\n",
    "def get_area_of_each_grays_level(im):\n",
    "    image = cv2.cvtColor(im, cv2.COLOR_BGR2GRAY)\n",
    "    output = []\n",
    "    high = 255\n",
    "    first = True\n",
    "    i = 0\n",
    "    while(1):\n",
    "        low = high - 25\n",
    "        if(first == False):\n",
    "            \n",
    "            # making values that are of a greater gray level black so it won't get detected\n",
    "            to_be_black_again_low = np.array([high])\n",
    "            to_be_black_again_high = np.array([255])\n",
    "            curr_mask = cv2.inRange(image, to_be_black_again_low, to_be_black_again_high)\n",
    "            image[curr_mask > 0] = (0)\n",
    "            \n",
    "        # making values of this gray level white so we can calculate it's area\n",
    "        ret, threshold = cv2.threshold(image, low, 255, 0)\n",
    "        \n",
    "        contours, hirerchy = cv2.findContours(threshold, cv2.RETR_LIST, cv2.CHAIN_APPROX_NONE)\n",
    "        if(len(contours) > 0):\n",
    "            output.append([cv2.contourArea(contours[0])])\n",
    "            cv2.drawContours(im, contours, -1, (0,0,255), 3)\n",
    "        high -= 25\n",
    "        first = False\n",
    "        print(i)\n",
    "        i+=1\n",
    "        \n",
    "        \n",
    "        if(low < 10 ):\n",
    "            break\n",
    "    viewImage(image)\n",
    "    return output"
   ]
  },
  {
   "cell_type": "code",
   "execution_count": 8,
   "metadata": {},
   "outputs": [
    {
     "name": "stdout",
     "output_type": "stream",
     "text": [
      "0\n",
      "1\n",
      "2\n",
      "3\n",
      "4\n",
      "5\n",
      "6\n",
      "7\n",
      "8\n",
      "9\n",
      "[[9814.0], [10566.0], [25283.0], [46238.0], [73573.5], [106903.0], [146859.0], [192976.0], [245302.0], [19988.5]]\n"
     ]
    },
    {
     "data": {
      "text/plain": [
       "True"
      ]
     },
     "execution_count": 8,
     "metadata": {},
     "output_type": "execute_result"
    }
   ],
   "source": [
    "image = cv2.imread('./Documents/ombre_circle_grayscale.png')\n",
    "print(get_area_of_each_grays_level(image))\n",
    "viewImage(image)\n",
    "cv2.imwrite(\"contoured-segmented-into-10-gray-levels.png\", image)\n",
    "\n"
   ]
  },
  {
   "cell_type": "code",
   "execution_count": 8,
   "metadata": {},
   "outputs": [],
   "source": [
    "############ problem is that this alorith relates pieces have the same color insenity. as one continous bulk."
   ]
  },
  {
   "cell_type": "code",
   "execution_count": null,
   "metadata": {},
   "outputs": [],
   "source": []
  }
 ],
 "metadata": {
  "kernelspec": {
   "display_name": "Python 3",
   "language": "python",
   "name": "python3"
  },
  "language_info": {
   "codemirror_mode": {
    "name": "ipython",
    "version": 3
   },
   "file_extension": ".py",
   "mimetype": "text/x-python",
   "name": "python",
   "nbconvert_exporter": "python",
   "pygments_lexer": "ipython3",
   "version": "3.6.4"
  },
  "toc": {
   "base_numbering": 1,
   "nav_menu": {},
   "number_sections": true,
   "sideBar": true,
   "skip_h1_title": false,
   "title_cell": "Table of Contents",
   "title_sidebar": "Contents",
   "toc_cell": false,
   "toc_position": {},
   "toc_section_display": true,
   "toc_window_display": false
  }
 },
 "nbformat": 4,
 "nbformat_minor": 2
}
